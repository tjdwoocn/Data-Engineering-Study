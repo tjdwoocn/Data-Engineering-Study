{
 "cells": [
  {
   "cell_type": "markdown",
   "metadata": {},
   "source": [
    "# Class & Object\n",
    "\n",
    "## Class와 Object(객체) 이해\n",
    "![ss](./DE_img/screenshot01.png)\n",
    "\n",
    "> '인간'이라는 추상적인 개념은 type, Class 이고\n",
    "\n",
    "> 나, 부모님, 친구 등 실제로 존재하는 사람을 Object 라고 함\n",
    "\n",
    "\n",
    "![ss](./DE_img/screenshot02.png)\n",
    "- 'List' 라는 타입\n",
    "  - List 가 가지는 attribute, method 등을 가짐\n",
    "\n",
    "- List의 Object는 숫자, 글자 등 구체적으로 메모리에 잡혀있는 그 자체, 상태\n",
    "\n",
    "- 클래스는 틀이고, 객체는 그 틀로 만들어 낸 것들"
   ]
  },
  {
   "cell_type": "markdown",
   "metadata": {},
   "source": [
    "## Class란?\n",
    "- 실세계의 것을 모델링하여 속성(attribute)와 동작(method)를 갖는 데이터 타입\n",
    "- python 에서의 string, int, list, dict.. 모두가 클래스로 존재\n",
    "- 예를들어 학생이라는 클래스를 만든다면, 학생을 나타내는 속성과 학생이 행하는 행동을 함께 정의 할 수 있음\n",
    "- 따라서, 다루고자 하는 데이터(변수)와 데이터를 다루는 연산(함수)를 하나로 캡슐화(encapsulation)하여 클래스로 표현\n",
    "- 모델링에서 중요시 하는 속성에 따라 클래스의 속성과 행동이 각각 달라짐\n"
   ]
  },
  {
   "cell_type": "markdown",
   "metadata": {},
   "source": [
    "## Object란?\n",
    "- 클래스로 생성되어 구체화된 객체(인스턴스)\n",
    "- python의 모든 것(int, str, list.. etc)은 객체(인스턴스)\n",
    "- 실제로 class가 인스턴스화 되어 메모리에 상주하는 상태를 의미\n",
    "- class가 빵틀이라면, object는 실제로 빵틀로 찍어낸 빵이라고 비유가능"
   ]
  },
  {
   "cell_type": "markdown",
   "metadata": {},
   "source": [
    "\n",
    "## 생성자(__init__)의 이해 및 사용\n",
    "> 파이썬 객체가 생성되는 순간 호출되는 함수\n",
    "\n",
    "### __init__(self)\n",
    "- 생성자, 클래스 인스턴스가 생성될 떄 호출됨\n",
    "- self 인자는 항상 첫번쨰에 오며, 자기 자신을 가리킴\n",
    "- 이름이 꼭 self일 필요는 없지만, 관례적으로 self 로 사용\n",
    "- 생성자에서는 해당 클래스가 다루는 데이터를 정의\n",
    "  - 이 데이터를 멤버 변수(member variable) 또는 속성(attribute)라고 함\n"
   ]
  },
  {
   "cell_type": "code",
   "execution_count": 76,
   "metadata": {},
   "outputs": [
    {
     "name": "stdout",
     "output_type": "stream",
     "text": [
      "<class '__main__.Person'> <class '__main__.Person'>\n",
      "<class 'list'> <class 'list'>\n"
     ]
    }
   ],
   "source": [
    "class Person:\n",
    "    pass\n",
    "\n",
    "bob = Person()\n",
    "cathy = Person()\n",
    "\n",
    "a = list()\n",
    "b = list()\n",
    "\n",
    "print(type(bob), type(cathy))\n",
    "print(type(a), type(b))"
   ]
  },
  {
   "cell_type": "code",
   "execution_count": 4,
   "metadata": {},
   "outputs": [
    {
     "name": "stdout",
     "output_type": "stream",
     "text": [
      "<__main__.Person object at 0x000001C6B0B4E0B8> is generated\n",
      "<__main__.Person object at 0x000001C6B0B4E080> is generated\n",
      "Sungjae 29\n",
      "SJ 27\n"
     ]
    }
   ],
   "source": [
    "class Person:\n",
    "    # Person 이라는 클래스가 생성되면 자동적으로 실행되는 init 함수\n",
    "    def __init__(self):\n",
    "        print(self, 'is generated')\n",
    "        # Person 이라는 클래스가 가지는 속성이 name과 age 2개고\n",
    "        # 그 내용은 각각 Sungjae와 29임\n",
    "        self.name = 'Sungjae'\n",
    "        self.age = 29\n",
    "        \n",
    "p1 = Person()\n",
    "p2 = Person()\n",
    "\n",
    "print(p1.name, p1.age)\n",
    "p1.name = 'SJ'\n",
    "p1.age = 27\n",
    "\n",
    "print(p1.name, p1.age)"
   ]
  },
  {
   "cell_type": "markdown",
   "metadata": {},
   "source": [
    "![ss](./DE_img/screenshot03.png)\n",
    "- person 객체가 생성된 메모리 주소를 나타냄"
   ]
  },
  {
   "cell_type": "markdown",
   "metadata": {},
   "source": [
    "### 동적 생성하기"
   ]
  },
  {
   "cell_type": "code",
   "execution_count": 8,
   "metadata": {},
   "outputs": [
    {
     "name": "stdout",
     "output_type": "stream",
     "text": [
      "Bob 30\n",
      "Kate 20\n",
      "Aaron 10\n"
     ]
    }
   ],
   "source": [
    "class Person:\n",
    "    # Person 이라는 클래스가 생성되면 자동적으로 실행되는 init 함수\n",
    "    def __init__(self, name, age=10):\n",
    "        # print(self, 'is generated')\n",
    "        # Person 이라는 클래스가 가지는 속성이 name과 age 2개고\n",
    "        # 그 내용은 각각 Sungjae와 29임\n",
    "        self.name = name\n",
    "        self.age = age\n",
    "\n",
    "p1 = Person('Bob', 30)\n",
    "p2 = Person('Kate', 20)\n",
    "# age=10의 기본 속성을 사용\n",
    "p3 = Person('Aaron')\n",
    "\n",
    "print(p1.name, p1.age)\n",
    "print(p2.name, p2.age)\n",
    "print(p3.name, p3.age)"
   ]
  },
  {
   "cell_type": "markdown",
   "metadata": {},
   "source": [
    "## self 키워드\n",
    "- 파이썬의 method는 항상 첫번째 인자로 self를 전달\n",
    "- self는 현재 해당 메쏘드가 호출되는 객체 자신을 가리킴\n",
    "- C++/C#, Java의 this에 해당\n",
    "- 역시, 이름이 self일 필요는 없으나, 위치는 항상 맨 처음의 parameter이며 관례적으로 self로 사용"
   ]
  },
  {
   "cell_type": "code",
   "execution_count": 10,
   "metadata": {},
   "outputs": [
    {
     "name": "stdout",
     "output_type": "stream",
     "text": [
      "self:  <__main__.Person object at 0x000001C6B0B4C0F0>\n",
      "self:  <__main__.Person object at 0x000001C6B0B4C128>\n",
      "<__main__.Person object at 0x000001C6B0B4C0F0>\n",
      "<__main__.Person object at 0x000001C6B0B4C128>\n"
     ]
    }
   ],
   "source": [
    "class Person:\n",
    "    def __init__(self, name, age):\n",
    "        print('self: ', self)\n",
    "        self.name = name\n",
    "        self.age = age\n",
    "\n",
    "a = Person('Aaron', 20)\n",
    "b = Person('Bob', 30)\n",
    "\n",
    "print(a)\n",
    "print(b)"
   ]
  },
  {
   "attachments": {
    "image.png": {
     "image/png": "[encoded data removed]"
    }
   },
   "cell_type": "markdown",
   "metadata": {},
   "source": [
    "![image.png](attachment:image.png)\n",
    "- 같은 주소 값을 가짐\n",
    "--> self는 결국 그 객체 자신을 뜻함"
   ]
  },
  {
   "cell_type": "code",
   "execution_count": 12,
   "metadata": {},
   "outputs": [
    {
     "name": "stdout",
     "output_type": "stream",
     "text": [
      "self:  <__main__.Person object at 0x000001C6B0B4CBA8>\n",
      "self:  <__main__.Person object at 0x000001C6B0B4CBE0>\n",
      "<__main__.Person object at 0x000001C6B0B4CBA8>\n",
      "<__main__.Person object at 0x000001C6B0B4CBE0>\n",
      "self:  <__main__.Person object at 0x000001C6B0B4CBA8>\n",
      "Aaron 은 잠을 잡니다.\n",
      "self:  <__main__.Person object at 0x000001C6B0B4CBE0>\n",
      "Bob 은 잠을 잡니다.\n"
     ]
    }
   ],
   "source": [
    "class Person:\n",
    "    def __init__(self, name, age):\n",
    "        print('self: ', self)\n",
    "        self.name = name\n",
    "        self.age = age\n",
    "        \n",
    "    def sleep(self):\n",
    "        print('self: ', self)\n",
    "        print(self.name, '은 잠을 잡니다.')\n",
    "\n",
    "a = Person('Aaron', 20)\n",
    "b = Person('Bob', 30)\n",
    "\n",
    "print(a)\n",
    "print(b)\n",
    "\n",
    "# sleep 함수 호출\n",
    "a.sleep()\n",
    "b.sleep()\n"
   ]
  },
  {
   "cell_type": "markdown",
   "metadata": {},
   "source": [
    "## method, static method 정의하기"
   ]
  },
  {
   "cell_type": "markdown",
   "metadata": {},
   "source": [
    "### method 정의\n",
    "- 맴버함수라고도 하며, 해당 클래스의 object에서만 호출가능\n",
    "- 메쏘드는 객체 레벨에서 호출되며, 해당 객체의 속성에 대한 연산을 행함\n",
    "- {obj}.{method}() 형태로 호출됨"
   ]
  },
  {
   "cell_type": "code",
   "execution_count": 22,
   "metadata": {},
   "outputs": [
    {
     "name": "stdout",
     "output_type": "stream",
     "text": [
      "현재값은:  0\n",
      "현재값은:  3\n",
      "현재값은:  0\n",
      "현재값은:  0\n",
      "현재값은:  1\n"
     ]
    }
   ],
   "source": [
    "# 1. 숫자를 하나 증가\n",
    "# 2. 숫자를 0으로 초기화\n",
    "class Counter:\n",
    "    def __init__(self):\n",
    "        self.num = 0\n",
    "        \n",
    "    def increment(self):\n",
    "        self.num += 1\n",
    "    \n",
    "    def reset(self):\n",
    "        self.num = 0\n",
    "    \n",
    "    def print_current_value(self):\n",
    "        print('현재값은: ', self.num)\n",
    "        \n",
    "c1 = Counter()\n",
    "c1.print_current_value()\n",
    "c1.increment()\n",
    "c1.increment()\n",
    "c1.increment()\n",
    "c1.print_current_value()\n",
    "c1.reset()\n",
    "c1.print_current_value()\n",
    "\n",
    "c2 = Counter()\n",
    "c2.print_current_value()\n",
    "c2.increment()\n",
    "c2.print_current_value()"
   ]
  },
  {
   "cell_type": "markdown",
   "metadata": {},
   "source": [
    "### method type\n",
    "- instance method - 객체로 호출\n",
    "    - 메쏘드는 객체 레벨로 호출 되기 떄문에, 해당 메쏘드를 호출한 객체에만 영향을 미침\n",
    "- class method(static method) - class로 호출\n",
    "    - 클래스 메쏘드의 경우, 클래스 레벨로 호출되기 때문에, 클래스 멤버 변수만 변경가능"
   ]
  },
  {
   "cell_type": "code",
   "execution_count": 24,
   "metadata": {},
   "outputs": [
    {
     "name": "stdout",
     "output_type": "stream",
     "text": [
      "30\n",
      "200\n"
     ]
    }
   ],
   "source": [
    "class Math:\n",
    "    def add(self, a, b):\n",
    "        return a + b\n",
    "    \n",
    "    def multiply(self, a, b):\n",
    "        return a * b\n",
    "    \n",
    "m = Math()\n",
    "print(m.add(10,20))\n",
    "print(m.multiply(10,20))"
   ]
  },
  {
   "cell_type": "code",
   "execution_count": 25,
   "metadata": {},
   "outputs": [
    {
     "name": "stdout",
     "output_type": "stream",
     "text": [
      "30\n",
      "200\n"
     ]
    }
   ],
   "source": [
    "# Math 클래스에는 속성이 없음\n",
    "# 속성이 없는 클래스의 경우, 내부적으로 유지할 데이터가 없는경우\n",
    "# self 속성이 필요없이 전달된 데이터만 가져와서 함수 실행만 해주면 됨\n",
    "class Math:\n",
    "    # staticmethod 라는 데코레이터를 달아줌\n",
    "    # 더이상 instance 메쏘드가 아니게 됨 --> static하게 동작하게 됨\n",
    "    # 클래스 이름으로 그 클래스의 기능들을 일반 함수처럼 호출/이용 가능\n",
    "    @staticmethod   \n",
    "    def add(a, b):\n",
    "        return a + b\n",
    "    \n",
    "    @staticmethod\n",
    "    def multiply(a, b):\n",
    "        return a * b\n",
    "    \n",
    "# 객체를 별도로 생성할 필요 없음\n",
    "# 클래스 이름으로 일반 함수처럼 이용 가능\n",
    "# utility 성의 특징을 가진애들에 쓰임\n",
    "print(Math.add(10,20))\n",
    "print(Math.multiply(10,20))"
   ]
  },
  {
   "cell_type": "markdown",
   "metadata": {},
   "source": [
    "## 클래스 상속의 이해 (코드 재사용하기)"
   ]
  },
  {
   "cell_type": "markdown",
   "metadata": {},
   "source": [
    "### Class Inheritance(상속)\n",
    "- 기존에 정의해둔 클래스의 기능을 그대로 물려받을 수 있다.\n",
    "- 기존 클래스에 기능 일부를 추가하거나, 변경하여 새로운 클래스를 정의한다.\n",
    "- 코드를 재사용할 수 있게된다\n",
    "- 상속 받고자 하는 대상인 기존 클래스는 (Parent, Super, Base class라고 부른다)\n",
    "- 상속 받는 새로운 클래스는 (Child, Sub, Derived class 라고 부른다)\n",
    "- 의미적으로 is-a 관계를 갖는다"
   ]
  },
  {
   "cell_type": "code",
   "execution_count": 34,
   "metadata": {},
   "outputs": [
    {
     "name": "stdout",
     "output_type": "stream",
     "text": [
      "Bob은 BBQ를 먹습니다.\n",
      "Bob은 30분동안 잡니다\n",
      "Bob은 60분동안 일합니다\n",
      "Bob은 BBQ를 먹습니다.\n",
      "Bob은 30분동안 잡니다\n",
      "Bob은 60분동안 일합니다\n",
      "Bob은 BBQ를 먹습니다.\n",
      "Bob은 30분동안 잡니다\n",
      "Bob은 60분동안 일합니다\n"
     ]
    }
   ],
   "source": [
    "# 공통적인 것을 부모 클래스로 생성\n",
    "class Person:\n",
    "    def __init__(self, name, age):\n",
    "        self.name = name\n",
    "        self.age = age\n",
    "        \n",
    "    def eat(self, food):\n",
    "        print('{}은 {}를 먹습니다.'.format(self.name, food))\n",
    "    \n",
    "    def sleep(self, minute):\n",
    "        print('{}은 {}분동안 잡니다'.format(self.name, minute))\n",
    "    \n",
    "    def work(self, minute):\n",
    "        print('{}은 {}분동안 일합니다'.format(self.name, minute))\n",
    "\n",
    "# 상속받기\n",
    "class Student(Person):\n",
    "    def __init__(self, name, age):\n",
    "        self.name = name\n",
    "        self.age = age\n",
    "    \n",
    "# 상속받기\n",
    "class Employee(Person):\n",
    "    def __init__(self, name, age):\n",
    "        self.name = name\n",
    "        self.age = age\n",
    "    \n",
    "bob = Person('Bob', 20)\n",
    "bob.eat('BBQ')\n",
    "bob.sleep(30)\n",
    "bob.work(60)\n",
    "\n",
    "# Person 클래스를 상속받은 Student 클래스 사용\n",
    "# Person에 있는 eat과 sleep 함수 사용 가능\n",
    "bob = Student('Bob', 20)\n",
    "bob.eat('BBQ')\n",
    "bob.sleep(30)\n",
    "bob.work(60)\n",
    "\n",
    "bob = Employee('Bob', 20)\n",
    "bob.eat('BBQ')\n",
    "bob.sleep(30)\n",
    "bob.work(60)"
   ]
  },
  {
   "cell_type": "markdown",
   "metadata": {},
   "source": [
    "### method override\n",
    "- 부모 클래스의 method를 재정의(override)\n",
    "- 하위 클래스(자식 클래스)의 인스턴스로 호출시, 재정의된 메소드가 호출됨"
   ]
  },
  {
   "cell_type": "code",
   "execution_count": 36,
   "metadata": {},
   "outputs": [
    {
     "name": "stdout",
     "output_type": "stream",
     "text": [
      "Bob은 60분동안 일합니다\n",
      "Bob은 60분동안 공부합니다\n",
      "Bob은 60분동안 업무를 합니다\n"
     ]
    }
   ],
   "source": [
    "# 공통적인 것을 부모 클래스로 생성\n",
    "class Person:\n",
    "    def __init__(self, name, age):\n",
    "        self.name = name\n",
    "        self.age = age\n",
    "        \n",
    "    def eat(self, food):\n",
    "        print('{}은 {}를 먹습니다.'.format(self.name, food))\n",
    "    \n",
    "    def sleep(self, minute):\n",
    "        print('{}은 {}분동안 잡니다'.format(self.name, minute))\n",
    "    \n",
    "    def work(self, minute):\n",
    "        print('{}은 {}분동안 일합니다'.format(self.name, minute))\n",
    "\n",
    "# 상속받기\n",
    "class Student(Person):\n",
    "    def __init__(self, name, age):\n",
    "        self.name = name\n",
    "        self.age = age\n",
    "    \n",
    "    # 부모 클래스의 work 함수를 자식 클래스에 맞게 수정\n",
    "    # 학생은 일 말고 공부를 하는걸로 수정 (재정의함)\n",
    "    def work(self, minute):\n",
    "        print('{}은 {}분동안 공부합니다'.format(self.name, minute))\n",
    "    \n",
    "# 상속받기\n",
    "class Employee(Person):\n",
    "    def __init__(self, name, age):\n",
    "        self.name = name\n",
    "        self.age = age\n",
    "    \n",
    "    def work(self, minute):\n",
    "        print('{}은 {}분동안 업무를 합니다'.format(self.name, minute))\n",
    "    \n",
    "    \n",
    "bob = Person('Bob', 20)\n",
    "bob.work(60)\n",
    "\n",
    "# override 한 것\n",
    "bob = Student('Bob', 20)\n",
    "bob.work(60)\n",
    "\n",
    "# override 한 것\n",
    "bob = Employee('Bob', 20)\n",
    "bob.work(60)"
   ]
  },
  {
   "cell_type": "markdown",
   "metadata": {},
   "source": [
    "### super\n",
    "- 하위클래스(자식 클래스)에서 부모클래스의 method를 호출할 때 사용"
   ]
  },
  {
   "cell_type": "code",
   "execution_count": 38,
   "metadata": {},
   "outputs": [
    {
     "name": "stdout",
     "output_type": "stream",
     "text": [
      "Bob은 60분동안 준비를 합니다\n",
      "-------------------------------------\n",
      "Bob은 60분동안 준비를 합니다\n",
      "Bob은 60분동안 공부합니다\n",
      "-------------------------------------\n",
      "Bob은 60분동안 준비를 합니다\n",
      "Bob은 60분동안 업무를 합니다\n"
     ]
    }
   ],
   "source": [
    "# 공통적인 것을 부모 클래스로 생성\n",
    "class Person:\n",
    "    def __init__(self, name, age):\n",
    "        self.name = name\n",
    "        self.age = age\n",
    "        \n",
    "    def eat(self, food):\n",
    "        print('{}은 {}를 먹습니다.'.format(self.name, food))\n",
    "    \n",
    "    def sleep(self, minute):\n",
    "        print('{}은 {}분동안 잡니다'.format(self.name, minute))\n",
    "    \n",
    "    def work(self, minute):\n",
    "        print('{}은 {}분동안 준비를 합니다'.format(self.name, minute))\n",
    "\n",
    "# 상속받기\n",
    "class Student(Person):\n",
    "    def __init__(self, name, age):\n",
    "        self.name = name\n",
    "        self.age = age\n",
    "    \n",
    "    # 부모 클래스의 work 함수를 자식 클래스에 맞게 수정\n",
    "    # 학생은 일 말고 공부를 하는걸로 수정 (재정의함)\n",
    "    def work(self, minute):\n",
    "        # override(재정의) 한 함수의 기능 말고 부모 클래스의 함수를 쓰기위해\n",
    "        super().work(minute)\n",
    "        print('{}은 {}분동안 공부합니다'.format(self.name, minute))\n",
    "    \n",
    "# 상속받기\n",
    "class Employee(Person):\n",
    "    def __init__(self, name, age):\n",
    "        self.name = name\n",
    "        self.age = age\n",
    "    \n",
    "    def work(self, minute):\n",
    "        # override(재정의) 한 함수의 기능 말고,\n",
    "        # 부모 클래스의 함수를 쓰기위해 super() 사용\n",
    "        super().work(minute)\n",
    "        print('{}은 {}분동안 업무를 합니다'.format(self.name, minute))\n",
    "\n",
    "        \n",
    "bob = Person('Bob', 20)\n",
    "bob.work(60)\n",
    "print('-------------------------------------')\n",
    "\n",
    "# override 한 것\n",
    "bob = Student('Bob', 20)\n",
    "bob.work(60)\n",
    "print('-------------------------------------')\n",
    "\n",
    "# override 한 것\n",
    "bob = Employee('Bob', 20)\n",
    "bob.work(60)"
   ]
  },
  {
   "cell_type": "markdown",
   "metadata": {},
   "source": [
    "## 클래스 연산자 재정의 이해 및 사용"
   ]
  },
  {
   "cell_type": "markdown",
   "metadata": {},
   "source": [
    "### Special Method\n",
    "- __로 시작 __로 끝나는 특수 함수\n",
    "- 해당 메쏘드들을 구현하면, 커스텀 객체에 여러가지 파이썬 내장 함수나 연산자를 적용가능\n",
    "- 오버라이딩 가능한 함수 목록은 아래 링크에서 참조\n",
    "    - https://docs.python.org/3/reference/datamodel.html\n",
    "    - https://docs.python.org/3/reference/datamodel.html#object.__add__"
   ]
  },
  {
   "cell_type": "code",
   "execution_count": 49,
   "metadata": {},
   "outputs": [
    {
     "name": "stdout",
     "output_type": "stream",
     "text": [
      "(3, 4)\n",
      "(2, 7)\n",
      "(5, 11)\n"
     ]
    }
   ],
   "source": [
    "# Point\n",
    "# 2차원 좌표평면 각 점(x,y)\n",
    "# 연산\n",
    "# 두점 의 덧셈, 뺄셈 (1,2) + (3,4) = (4,6)\n",
    "# 한점과 숫자의 곱셈 (1,2) * 3 = (3,6)\n",
    "# 그 점의 길이 (0,0) 부터의 거리\n",
    "# x, y의 값 가져오기\n",
    "# 출력하기\n",
    "\n",
    "class Point:\n",
    "    def __init__(self, x, y):\n",
    "        self.x = x\n",
    "        self.y = y\n",
    "        \n",
    "    def add(self, pt):\n",
    "        new_x = self.x + pt.x\n",
    "        new_y = self.y + pt.y\n",
    "        return Point(new_x, new_y)\n",
    "    \n",
    "    def print_point(self):\n",
    "        print('({}, {})'.format(self.x, self.y))\n",
    "        \n",
    "    # __str__ 함수 오버라이딩\n",
    "    # 결고값 return\n",
    "    def __str__(self):\n",
    "        return '({}, {})'.format(self.x, self.y)\n",
    "\n",
    "    \n",
    "p1 = Point(3,4)\n",
    "p2 = Point(2,7)\n",
    "\n",
    "# p3 = p1 + p2 를 원함\n",
    "p3 = p1.add(p2)\n",
    "\n",
    "# p1.print_point()\n",
    "# p2.print_point()\n",
    "\n",
    "# __str__함수 없이 출력하면 해당 객체의 좌표값이 나옴\n",
    "print(p1)\n",
    "print(p2)\n",
    "print(p3)"
   ]
  },
  {
   "cell_type": "code",
   "execution_count": 57,
   "metadata": {},
   "outputs": [
    {
     "name": "stdout",
     "output_type": "stream",
     "text": [
      "(3, 4)\n",
      "(2, 7)\n",
      "(5, 11)\n",
      "(1, -3)\n",
      "(9, 12)\n",
      "25\n",
      "3\n",
      "4\n"
     ]
    }
   ],
   "source": [
    "# Point\n",
    "# 2차원 좌표평면 각 점(x,y)\n",
    "# 연산\n",
    "# 두점 의 덧셈, 뺄셈 (1,2) + (3,4) = (4,6)\n",
    "# 한점과 숫자의 곱셈 (1,2) * 3 = (3,6)\n",
    "# 그 점의 길이 (0,0) 부터의 거리\n",
    "# x, y의 값 가져오기\n",
    "# 출력하기\n",
    "\n",
    "class Point:\n",
    "    def __init__(self, x, y):\n",
    "        self.x = x\n",
    "        self.y = y\n",
    "        \n",
    "    def __add__(self, pt):\n",
    "        new_x = self.x + pt.x\n",
    "        new_y = self.y + pt.y\n",
    "        return Point(new_x, new_y)\n",
    "    \n",
    "    def __sub__(self, pt):\n",
    "        new_x = self.x - pt.x\n",
    "        new_y = self.y - pt.y\n",
    "        return Point(new_x, new_y)\n",
    "    \n",
    "    def __mul__(self, factor):\n",
    "        return Point(self.x * factor, self.y * factor)\n",
    "    \n",
    "#     def length(self):\n",
    "#         return self.x ** 2 + self.y ** 2\n",
    "    def __len__(self):\n",
    "        return self.x ** 2 + self.y ** 2\n",
    "    \n",
    "#     def get_x(self):\n",
    "#         return self.x\n",
    "#     def get_y(self):\n",
    "#         return self.y\n",
    "    def __getitem__(self, index):\n",
    "        if index ==0:\n",
    "            return self.x\n",
    "        elif index ==1:\n",
    "            return self.y\n",
    "        else:\n",
    "            # 원래는 오류를 발생시켜야 함\n",
    "            return -1\n",
    "    \n",
    "    def print_point(self):\n",
    "        print('({}, {})'.format(self.x, self.y))\n",
    "        \n",
    "    # __str__ 함수 오버라이딩\n",
    "    # 결고값 return\n",
    "    def __str__(self):\n",
    "        return '({}, {})'.format(self.x, self.y)\n",
    "\n",
    "    \n",
    "p1 = Point(3,4)\n",
    "p2 = Point(2,7)\n",
    "\n",
    "# __add__ 함수 사용, override\n",
    "p3 = p1 + p2\n",
    "# __sub__ 함수 사용, override\n",
    "p4 = p1 - p2\n",
    "\n",
    "# p5 = p1.multiply(3)\n",
    "# __mul__ 함수 사용\n",
    "p5 = p1*3\n",
    "\n",
    "# p1.print_point()\n",
    "# p2.print_point()\n",
    "\n",
    "# __str__함수 없이 출력하면 해당 객체의 좌표값이 나옴\n",
    "print(p1)\n",
    "print(p2)\n",
    "print(p3)\n",
    "print(p4)\n",
    "print(p5)\n",
    "# # length 함수사용\n",
    "# print(p1.length())\n",
    "print(len(p1))\n",
    "\n",
    "# print(p1.get_x())\n",
    "# print(p1.get_y())\n",
    "\n",
    "# p1[0] --> x값\n",
    "# p1[1] --> y값\n",
    "print(p1[0])\n",
    "print(p1[1])\n"
   ]
  },
  {
   "cell_type": "markdown",
   "metadata": {},
   "source": [
    "## 클래스 연습문제\n",
    "- 복소수 클래스 정의\n",
    "- 덧셈, 뺄셈, 곱셈 연산자 지원\n",
    "- 길이 (복소수의 크기) 지원\n",
    "- 복소수 출력 '1 + 4j'와 같이 표현\n",
    "- 비교 연산 ==, != 지원\n",
    "    - =, <=, <, > 연산 지원\n",
    "- 절대값 지원"
   ]
  },
  {
   "cell_type": "code",
   "execution_count": 75,
   "metadata": {},
   "outputs": [
    {
     "name": "stdout",
     "output_type": "stream",
     "text": [
      "-2 - 3j\n",
      "4 + 7j\n",
      "3 + 6j\n",
      "-7 + 11j\n",
      "False\n",
      "True\n",
      "2.23606797749979\n",
      "5\n"
     ]
    }
   ],
   "source": [
    "import math\n",
    "\n",
    "class ComplexNumber:\n",
    "    def __init__(self, real, img):\n",
    "        self.real = real\n",
    "        self.img = img\n",
    "        \n",
    "    def __add__(self, cn):\n",
    "        return ComplexNumber(self.real + cn.real, self.img + cn.img)\n",
    "               \n",
    "    def __sub__(self, cn):\n",
    "        return ComplexNumber(self.real - cn.real, self.img - cn.img)  \n",
    "    \n",
    "    # 복소수와 숫자를 곱할수도 있고\n",
    "    # 복소수끼리 곱할수도 있음\n",
    "    def __mul__(self, x):\n",
    "        if type(x) == int:\n",
    "            return ComplexNumber(self.real * x, self.img * x)\n",
    "        elif type(x) == ComplexNumber:\n",
    "            # (a + bj) * (c + dj) = (ac - bc) + (ad + bc)j\n",
    "            return ComplexNumber(self.real * x.real - self.img * x.img, \n",
    "                                self.real * x.img + self.img * x.real)\n",
    "            \n",
    "    def __str__(self):\n",
    "        if self.img > 0:\n",
    "            return '{} + {}j'.format(self.real, self.img)\n",
    "        else:\n",
    "            return '{} - {}j'.format(self.real, abs(self.img))\n",
    "\n",
    "    # 비교연산\n",
    "    def __eq__(self, cn):\n",
    "        return self.real == cn.real and self.img == cn.img\n",
    "    \n",
    "    # 비교연산\n",
    "    def __ne__(self, cn):\n",
    "        return not (self.real == cn.real and self.img == cn.img)\n",
    "    \n",
    "    def __abs__(self):\n",
    "        return math.sqrt(self.real ** 2 + self.img ** 2)\n",
    "    \n",
    "    def __len__(self):\n",
    "        return self.real ** 2 + self.img ** 2\n",
    "        \n",
    "        \n",
    "a = ComplexNumber(1, 2)\n",
    "b = ComplexNumber(3, 5)\n",
    "print(a - b)\n",
    "print(a + b)\n",
    "print(a * 3)\n",
    "print(a * b)\n",
    "\n",
    "print(a == b)\n",
    "print(a != b)\n",
    "print(abs(a))\n",
    "print(len(a))"
   ]
  },
  {
   "cell_type": "code",
   "execution_count": null,
   "metadata": {},
   "outputs": [],
   "source": []
  }
 ],
 "metadata": {
  "kernelspec": {
   "display_name": "Python 3",
   "language": "python",
   "name": "python3"
  },
  "language_info": {
   "codemirror_mode": {
    "name": "ipython",
    "version": 3
   },
   "file_extension": ".py",
   "mimetype": "text/x-python",
   "name": "python",
   "nbconvert_exporter": "python",
   "pygments_lexer": "ipython3",
   "version": "3.5.5"
  }
 },
 "nbformat": 4,
 "nbformat_minor": 2
}
